{
 "cells": [
  {
   "cell_type": "code",
   "id": "initial_id",
   "metadata": {
    "collapsed": true,
    "ExecuteTime": {
     "end_time": "2025-01-13T14:49:39.731468Z",
     "start_time": "2025-01-13T14:49:39.709151Z"
    }
   },
   "source": [
    "%load_ext autoreload\n",
    "%autoreload\n",
    "2"
   ],
   "outputs": [
    {
     "data": {
      "text/plain": [
       "2"
      ]
     },
     "execution_count": 1,
     "metadata": {},
     "output_type": "execute_result"
    }
   ],
   "execution_count": 1
  },
  {
   "metadata": {
    "ExecuteTime": {
     "end_time": "2025-01-13T14:51:02.990968Z",
     "start_time": "2025-01-13T14:51:02.982409Z"
    }
   },
   "cell_type": "code",
   "source": [
    "from World import World\n",
    "from pprint import pprint"
   ],
   "id": "e299fa72c84b1688",
   "outputs": [],
   "execution_count": 16
  },
  {
   "metadata": {
    "ExecuteTime": {
     "end_time": "2025-01-13T14:49:40.548375Z",
     "start_time": "2025-01-13T14:49:40.413425Z"
    }
   },
   "cell_type": "code",
   "source": [
    "world = World(n_cities=10)\n",
    "world.plot()"
   ],
   "id": "1ed8ac13447a8156",
   "outputs": [
    {
     "data": {
      "text/plain": [
       "<Figure size 640x480 with 1 Axes>"
      ],
      "image/png": "[encoded data removed]"
     },
     "metadata": {},
     "output_type": "display_data"
    }
   ],
   "execution_count": 3
  },
  {
   "metadata": {},
   "cell_type": "markdown",
   "source": [
    "### Travelling Salesman Problem\n",
    "starting at city 0, find the most cost efficient path that visits each city once, and returns to city 0"
   ],
   "id": "b073fb05ce3f07d8"
  },
  {
   "metadata": {
    "ExecuteTime": {
     "end_time": "2025-01-13T14:49:41.078673Z",
     "start_time": "2025-01-13T14:49:41.066914Z"
    }
   },
   "cell_type": "code",
   "source": "print(world.distances[(0, 1)])",
   "id": "7a91b8c8d8059266",
   "outputs": [
    {
     "name": "stdout",
     "output_type": "stream",
     "text": [
      "111.73182178770737\n"
     ]
    }
   ],
   "execution_count": 4
  },
  {
   "metadata": {},
   "cell_type": "markdown",
   "source": [
    "### Genome\n",
    "We define one solution/genome as a sequence of city indices, representing which order to visit them in."
   ],
   "id": "d03aad3af755229d"
  },
  {
   "metadata": {
    "ExecuteTime": {
     "end_time": "2025-01-13T14:49:41.678951Z",
     "start_time": "2025-01-13T14:49:41.672749Z"
    }
   },
   "cell_type": "code",
   "source": [
    "example_genome = [0, 1, 2, 3, 4, 5, 6, 7, 8, 9]\n",
    "example_good_genome = [0, 4, 6, 7, 5, 1, 9, 8, 3, 2]"
   ],
   "id": "f213be2175358cc4",
   "outputs": [],
   "execution_count": 5
  },
  {
   "metadata": {},
   "cell_type": "markdown",
   "source": [
    "### Fitness function\n",
    "We define the fitness function for a given genome using the total distance traveled. Higher values of fitness indicate better solutions.\n",
    "$$\n",
    "Fitness(genome) = \\frac{1}{distanceTraveled(genome)}\n",
    "$$\n"
   ],
   "id": "a495c1d55516eead"
  },
  {
   "metadata": {
    "ExecuteTime": {
     "end_time": "2025-01-13T14:49:42.238556Z",
     "start_time": "2025-01-13T14:49:42.233336Z"
    }
   },
   "cell_type": "code",
   "source": [
    "print(\"Fitness random genome: \", world.fitness(example_genome))\n",
    "print(\"Fitness good genome: \", world.fitness(example_good_genome))\n"
   ],
   "id": "5f89d6994ebc43ab",
   "outputs": [
    {
     "name": "stdout",
     "output_type": "stream",
     "text": [
      "Fitness random genome:  0.001521338815097377\n",
      "Fitness good genome:  0.002557715582803623\n"
     ]
    }
   ],
   "execution_count": 6
  },
  {
   "metadata": {},
   "cell_type": "markdown",
   "source": [
    "### Generate random population of individuals\n",
    "We now generate a random population of 100 individuals/genomes."
   ],
   "id": "582504c5f1f958f2"
  },
  {
   "metadata": {
    "ExecuteTime": {
     "end_time": "2025-01-13T14:51:31.864797Z",
     "start_time": "2025-01-13T14:51:31.858896Z"
    }
   },
   "cell_type": "code",
   "source": [
    "world.generate_random_population(n=100)\n",
    "pprint(world.population[:5]) # Print first 5 genomes"
   ],
   "id": "f45d2727f82e4b3",
   "outputs": [
    {
     "name": "stdout",
     "output_type": "stream",
     "text": [
      "[[9, 4, 0, 1, 5, 6, 2, 3, 7, 8],\n",
      " [3, 4, 7, 2, 0, 9, 5, 1, 6, 8],\n",
      " [7, 8, 6, 5, 1, 3, 4, 2, 0, 9],\n",
      " [2, 0, 9, 6, 8, 5, 3, 4, 1, 7],\n",
      " [6, 0, 9, 8, 5, 2, 7, 3, 1, 4]]\n"
     ]
    }
   ],
   "execution_count": 20
  },
  {
   "metadata": {},
   "cell_type": "code",
   "outputs": [],
   "execution_count": null,
   "source": "",
   "id": "9746c18dcdb7ded2"
  }
 ],
 "metadata": {
  "kernelspec": {
   "display_name": "Python 3",
   "language": "python",
   "name": "python3"
  },
  "language_info": {
   "codemirror_mode": {
    "name": "ipython",
    "version": 2
   },
   "file_extension": ".py",
   "mimetype": "text/x-python",
   "name": "python",
   "nbconvert_exporter": "python",
   "pygments_lexer": "ipython2",
   "version": "2.7.6"
  }
 },
 "nbformat": 4,
 "nbformat_minor": 5
}
